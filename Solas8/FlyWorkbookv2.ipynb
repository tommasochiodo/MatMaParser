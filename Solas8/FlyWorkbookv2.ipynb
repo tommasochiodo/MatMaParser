{
 "cells": [
  {
   "cell_type": "code",
   "execution_count": 1,
   "metadata": {},
   "outputs": [
    {
     "name": "stdout",
     "output_type": "stream",
     "text": [
      "Available Assays:\n",
      "1 : Dorsalis/\n",
      "2 : Other Test assay/\n"
     ]
    },
    {
     "name": "stdin",
     "output_type": "stream",
     "text": [
      "Please type in the number of the data to use: 1\n"
     ]
    },
    {
     "name": "stdout",
     "output_type": "stream",
     "text": [
      "Dorsalis/ Assay Selected.\n"
     ]
    }
   ],
   "source": [
    "import numpy as np\n",
    "import pandas as pd\n",
    "import matplotlib.pyplot as plt\n",
    "import re\n",
    "import subprocess as sp\n",
    "\n",
    "#import os\n",
    "#get wd of file\n",
    "\n",
    "#cwd = os.getcwd()\n",
    "#print(cwd)\n",
    "listDir = \"ls -1 -d */\"\n",
    "Dir = sp.check_output(listDir, shell=True, universal_newlines=True, text=True).strip()\n",
    "\n",
    "assays = Dir.splitlines()\n",
    "\n",
    "#def sanatize input\n",
    "# may want to change the formatting of the user input: print the prompt, list the options, then call input()\n",
    "def userinput(options, userPrompt):\n",
    "    for i in range(len(options)):\n",
    "        print(i+1,':', options[i])\n",
    "    while True:\n",
    "        try:\n",
    "            output = int(input('Please type in the number of the data to {}:'.format(userPrompt)))\n",
    "            if isinstance(output, int):\n",
    "                #change to 0 count scale\n",
    "                output = output - 1\n",
    "                #there is a bug here. giving a 0 or negative number will rollover the list\n",
    "                while len(options) <= output:\n",
    "                    output = int(input('Not a valid selection. Please type the number of the data to {}:'.format(userPrompt)))\n",
    "                break\n",
    "        except ValueError:\n",
    "            print('Not a Number. Please type the Number of the data to {}:'.format(userPrompt))\n",
    "    return options.pop(output)\n",
    "\n",
    "\n",
    "print('Available Assays:')\n",
    "selAssay = userinput(assays, 'use')\n",
    "print(selAssay, 'Assay Selected.')\n",
    "\n",
    "\n",
    "\n"
   ]
  },
  {
   "cell_type": "code",
   "execution_count": 3,
   "metadata": {},
   "outputs": [
    {
     "name": "stdout",
     "output_type": "stream",
     "text": [
      "2021-01-06-0439\n",
      "2021-01-07-0600\n",
      "2021-01-07-1055\n",
      "2021-01-08-0906\n",
      "2021-01-08-1134\n",
      "2021-01-08-1358\n",
      "2021-01-08-1710\n",
      "2021-01-09-1939\n",
      "MT-14\n",
      "MT-D7\n",
      "day1-pestle\n",
      "day14_pestle\n",
      "\n"
     ]
    }
   ],
   "source": [
    "# Import Data\n",
    "\n",
    "#list Assay folders\n",
    "changeDir = \"ls -1 \"+selAssay\n",
    "\n",
    "listRuns=sp.check_output(changeDir, shell=True, universal_newlines=True, text=True)\n",
    "print(listRuns)\n",
    "\n",
    "runs = listRuns.splitlines()\n"
   ]
  },
  {
   "cell_type": "code",
   "execution_count": 22,
   "metadata": {},
   "outputs": [
    {
     "name": "stdout",
     "output_type": "stream",
     "text": [
      "Run ID: 2021-01-06-0439\n",
      "Number of samples in run: 8\n",
      "Appended 2021-01-06-0439 to aggregate table.\n",
      "Run ID: 2021-01-07-0600\n",
      "Number of samples in run: 8\n",
      "Appended 2021-01-07-0600 to aggregate table.\n",
      "Run ID: 2021-01-07-1055\n",
      "Number of samples in run: 8\n",
      "Appended 2021-01-07-1055 to aggregate table.\n",
      "Run ID: 2021-01-08-0906\n",
      "Number of samples in run: 8\n",
      "Appended 2021-01-08-0906 to aggregate table.\n",
      "Run ID: 2021-01-08-1134\n",
      "Number of samples in run: 8\n",
      "Appended 2021-01-08-1134 to aggregate table.\n",
      "Run ID: 2021-01-08-1358\n",
      "Number of samples in run: 8\n",
      "Appended 2021-01-08-1358 to aggregate table.\n",
      "Run ID: 2021-01-08-1710\n",
      "Number of samples in run: 8\n",
      "Appended 2021-01-08-1710 to aggregate table.\n",
      "Run ID: 2021-01-09-1939\n",
      "Number of samples in run: 8\n",
      "Appended 2021-01-09-1939 to aggregate table.\n",
      "Run ID: MT-14\n",
      "Number of samples in run: 8\n",
      "Appended MT-14 to aggregate table.\n",
      "Run ID: MT-D7\n",
      "Number of samples in run: 8\n",
      "Appended MT-D7 to aggregate table.\n",
      "Run ID: day1-pestle\n",
      "Number of samples in run: 8\n",
      "Appended day1-pestle to aggregate table.\n",
      "Run ID: day14_pestle\n",
      "Number of samples in run: 8\n",
      "Appended day14_pestle to aggregate table.\n",
      "                 sampleID  TUBE            RunID WT Signal GSS Signal\n",
      "0   DTWP_Male_21_Pestle_1     1  2021-01-06-0439       141       1471\n",
      "1   DTWP_Male_21_Pestle_2     2  2021-01-06-0439      1169       2266\n",
      "2   DTWP_Male_21_Pestle_3     3  2021-01-06-0439        17         24\n",
      "3   DTWP_Male_21_Pestle_4     4  2021-01-06-0439       625       2226\n",
      "4   DTWP_Male_21_Pestle_5     5  2021-01-06-0439       768       2121\n",
      "..                    ...   ...              ...       ...        ...\n",
      "91  DTWP_Male_14_Pestle_4     4     day14_pestle       673       1635\n",
      "92  DTWP_Male_14_Pestle_5     5     day14_pestle       205       1127\n",
      "93  DTWP_Male_14_Pestle_6     6     day14_pestle         1         20\n",
      "94  DTWP_Male_14_Pestle_7     7     day14_pestle        19         13\n",
      "95  DTWP_Male_14_Pestle_8     8     day14_pestle       783       1852\n",
      "\n",
      "[96 rows x 5 columns]\n"
     ]
    }
   ],
   "source": [
    "#Allowing user def of columns\n",
    "assembledData = pd.DataFrame()\n",
    "summaryTable = pd.DataFrame()\n",
    "\n",
    "for run in runs:\n",
    "    print('Run ID:',run)\n",
    "    SOpath = selAssay+run+\"/experiment/data/scanoutput.csv\"\n",
    "    importTable = pd.read_table(SOpath, sep=\",\")\n",
    "    #import gain.txt and link to importTable\n",
    "    IDpath = selAssay+run+\"/experiment/data/gain.txt\"\n",
    "    fh = open(IDpath)\n",
    "    contents = fh.read()\n",
    "    #split the contents into a list w/ one list for each sample - samplesplit\n",
    "    samplesplit = contents.split('\\n\\n')\n",
    "    #create lists for gain.txt to be zipped to dataframe\n",
    "    #moving this outside the loop as well as the zipping\n",
    "    sampleIDlist = []\n",
    "    tubeNumlist = []\n",
    "    runIDlist = []\n",
    "    GSSmaxList = []\n",
    "    WTmaxList = []\n",
    "    for i in range(len(samplesplit)):\n",
    "        indSplit = samplesplit[i].split('\\n')\n",
    "        #indSplit[0] is tube # and indSplit[1] is sampleID. need to make TUBE int as well\n",
    "        tubeNum = int(indSplit[0].strip('[]').strip('Tube '))\n",
    "        sampleID = indSplit[1].strip('sampleID').strip('=')\n",
    "        \n",
    "        wtMax = indSplit[2].strip('Wild Fly').strip('=')\n",
    "        gssMax = indSplit[3].strip('GSS Female').strip('=')\n",
    "        \n",
    "        #keep tubeNum, SampleID, and runID lists\n",
    "        tubeNumlist.append(tubeNum)\n",
    "        sampleIDlist.append(sampleID)\n",
    "        runIDlist.append(run)\n",
    "        WTmaxList.append(wtMax)\n",
    "        GSSmaxList.append(gssMax)\n",
    "    #get len() of sampleID after split.  \n",
    "    print(\"Number of samples in run:\",len(sampleIDlist))\n",
    "\n",
    "\n",
    "    #zip list into dataframe\n",
    "    sampleIDframe = pd.DataFrame(list(zip(sampleIDlist, tubeNumlist, runIDlist, WTmaxList, GSSmaxList)), columns =['sampleID', 'TUBE', 'RunID', 'WT Signal', 'GSS Signal']) \n",
    "    \n",
    "    #combine imported table and sampleID - THIS HAS TO BE IN THE LOOP AS WE ARE MATCHING TUBE NUMBER\n",
    "    importTableID = importTable.merge(sampleIDframe, left_on='TUBE', right_on='TUBE')\n",
    "    #print(importTableID)\n",
    "    #now add to global table with run name!\n",
    "    assembledData=assembledData.append(importTableID, ignore_index= True)\n",
    "    print('Appended',run, 'to aggregate table.')\n",
    "    summaryTable = summaryTable.append(sampleIDframe, ignore_index= True)\n",
    "\n",
    "print(summaryTable)\n",
    "\n"
   ]
  },
  {
   "cell_type": "code",
   "execution_count": 23,
   "metadata": {},
   "outputs": [
    {
     "name": "stdout",
     "output_type": "stream",
     "text": [
      "There are samples with the following lengths: 5\n",
      "Random Subset of 5 IDs:\n",
      "\t DTWP_Male_14_KF_2\n",
      "\t DTWP_Male_1_KF_4\n",
      "\t DTWP_Male_21_Pestle_3\n",
      "\t DTWP_Male_7_KF_4\n"
     ]
    },
    {
     "name": "stdin",
     "output_type": "stream",
     "text": [
      "Assign Name to part 1: Strain\n"
     ]
    },
    {
     "name": "stdout",
     "output_type": "stream",
     "text": [
      "Strain Assigned to column 1\n"
     ]
    },
    {
     "name": "stdin",
     "output_type": "stream",
     "text": [
      "Assign Name to part 2: Sex\n"
     ]
    },
    {
     "name": "stdout",
     "output_type": "stream",
     "text": [
      "Sex Assigned to column 2\n"
     ]
    },
    {
     "name": "stdin",
     "output_type": "stream",
     "text": [
      "Assign Name to part 3: Age\n"
     ]
    },
    {
     "name": "stdout",
     "output_type": "stream",
     "text": [
      "Age Assigned to column 3\n"
     ]
    },
    {
     "name": "stdin",
     "output_type": "stream",
     "text": [
      "Assign Name to part 4: Extraction Method\n"
     ]
    },
    {
     "name": "stdout",
     "output_type": "stream",
     "text": [
      "Extraction Method Assigned to column 4\n"
     ]
    },
    {
     "name": "stdin",
     "output_type": "stream",
     "text": [
      "Assign Name to part 5: Ind\n"
     ]
    },
    {
     "name": "stdout",
     "output_type": "stream",
     "text": [
      "Ind Assigned to column 5\n",
      "SummaryTable.csv Exported\n",
      "AssembledData.csv Exported.\n"
     ]
    }
   ],
   "source": [
    "variableNum = []\n",
    "variableNumSum = []\n",
    "#print(assembledData.at[0,'sampleID'])\n",
    "# i think i can get rid of this and use summary table to be faster\n",
    "#for i in range(len(assembledData.index)):\n",
    "#    #to grab a specific element:\n",
    "#    #dataframe.loc[row_name, column_name]\n",
    "#    splitID=assembledData.at[i,'sampleID'].split('_')\n",
    "#    #print(splitID)\n",
    "#    variableNum.append(len(splitID))\n",
    "#    #print(len(splitID), \"Variables Found in\",sampleIDlist[i])\n",
    "    \n",
    "for i in range(len(summaryTable.index)):\n",
    "    #to grab a specific element:\n",
    "    #dataframe.loc[row_name, column_name]\n",
    "    splitID=summaryTable.at[i,'sampleID'].split('_')\n",
    "    #print(splitID)\n",
    "    variableNum.append(len(splitID))\n",
    "    #print(len(splitID), \"Variables Found in\",sampleIDlist[i])\n",
    "\n",
    "variableNum = np.array(variableNum)\n",
    "uniqueVar = np.unique(variableNum)\n",
    "sampleIDonly = summaryTable['sampleID'].unique()\n",
    "\n",
    "print(\"There are samples with the following lengths:\",int(uniqueVar))\n",
    "print('Random Subset of 5 IDs:')\n",
    "randomSub = np.unique(np.random.choice(sampleIDonly, 5))\n",
    "for i in range(4):\n",
    "    print('\\t', randomSub[i])\n",
    "    \n",
    "colNames = ['sampleID']\n",
    "if len(uniqueVar) == 1:\n",
    "    for i in range(int(uniqueVar)):\n",
    "        colName = input('Assign Name to part '+str(i+1)+':')\n",
    "        colNames.append(colName)\n",
    "        print(colName, 'Assigned to column', i+1)\n",
    "else:\n",
    "    print(\"else\")\n",
    "    #still need to write code to work through the different lengths\n",
    "\n",
    "#now that we have to add data to the columns\n",
    "\n",
    "#create Array with column headers \n",
    "sampleIDinfo = pd.DataFrame(columns = colNames)\n",
    "\n",
    "for i in range(len(summaryTable.index)):\n",
    "    sampleInfo = []\n",
    "    sampleInfo.append(summaryTable.at[i,'sampleID'])\n",
    "    splitID=summaryTable.at[i,'sampleID'].split('_')\n",
    "    for i in range(len(splitID)):\n",
    "        sampleInfo.append(splitID[i])\n",
    "    #convert to series\n",
    "    seriesConv = pd.Series(sampleInfo, index = sampleIDinfo.columns)\n",
    "    #append series to the array\n",
    "    sampleIDinfo = sampleIDinfo.append(seriesConv, ignore_index = True)\n",
    "\n",
    "#merge array: \n",
    "summaryTable = summaryTable.merge(sampleIDinfo, left_on='sampleID', right_on='sampleID')\n",
    "summaryTable.to_csv('SummaryTable.csv')\n",
    "print(\"SummaryTable.csv Exported\")\n",
    "\n",
    "#create Array with column headers \n",
    "sampleIDinfo = pd.DataFrame(columns = colNames)\n",
    "\n",
    "for i in range(len(assembledData.index)):\n",
    "    sampleInfo = []\n",
    "    sampleInfo.append(assembledData.at[i,'sampleID'])\n",
    "    splitID=assembledData.at[i,'sampleID'].split('_')\n",
    "    for i in range(len(splitID)):\n",
    "        sampleInfo.append(splitID[i])\n",
    "    #convert to series\n",
    "    seriesConv = pd.Series(sampleInfo, index = sampleIDinfo.columns)\n",
    "    #append series to the array\n",
    "    sampleIDinfo = sampleIDinfo.append(seriesConv, ignore_index = True)\n",
    "    \n",
    "assembledData = assembledData.merge(sampleIDinfo, left_on='sampleID', right_on='sampleID')\n",
    "assembledData.to_csv('AssembledData.csv')\n",
    "print(\"AssembledData.csv Exported.\")\n",
    "\n",
    "\n",
    "#how to handle splitting the sample ID to fields:\n",
    "#idea 1: keep the splitting in the for i in range(len(samplesplit)) loop\n",
    "    #after the getting the sampleID isolated, in a seperate loop split\n",
    "    # the sampleID based on '_' and len() the new list, and add that to a\n",
    "    # previously created list for sampleIDlen. "
   ]
  },
  {
   "cell_type": "code",
   "execution_count": 5,
   "metadata": {
    "collapsed": true,
    "jupyter": {
     "outputs_hidden": true,
     "source_hidden": true
    }
   },
   "outputs": [
    {
     "name": "stdout",
     "output_type": "stream",
     "text": [
      "1 : TIME\n",
      "2 : NAME\n",
      "3 : CHANNEL\n",
      "4 : TUBE\n",
      "5 : SIGNAL\n",
      "6 : sampleID\n",
      "7 : RunID\n",
      "8 : Strain\n",
      "9 : Sex\n",
      "10 : Age\n",
      "11 : Extraction Method\n",
      "12 : Ind\n"
     ]
    },
    {
     "name": "stdin",
     "output_type": "stream",
     "text": [
      "Please type in the number of the data to use as x-axis: 1\n"
     ]
    },
    {
     "name": "stdout",
     "output_type": "stream",
     "text": [
      "TIME selected as x-axis.\n",
      "1 : NAME\n",
      "2 : CHANNEL\n",
      "3 : TUBE\n",
      "4 : SIGNAL\n",
      "5 : sampleID\n",
      "6 : RunID\n",
      "7 : Strain\n",
      "8 : Sex\n",
      "9 : Age\n",
      "10 : Extraction Method\n",
      "11 : Ind\n"
     ]
    },
    {
     "name": "stdin",
     "output_type": "stream",
     "text": [
      "Please type in the number of the data to use as y-axis: 4\n"
     ]
    },
    {
     "name": "stdout",
     "output_type": "stream",
     "text": [
      "SIGNAL selected as y-axis.\n"
     ]
    },
    {
     "name": "stdin",
     "output_type": "stream",
     "text": [
      "Would you like to subset your graphs? (y/n):  y\n"
     ]
    },
    {
     "name": "stdout",
     "output_type": "stream",
     "text": [
      "Subsetting Graphs:\n",
      "1 : NAME\n",
      "2 : CHANNEL\n",
      "3 : TUBE\n",
      "4 : sampleID\n",
      "5 : RunID\n",
      "6 : Strain\n",
      "7 : Sex\n",
      "8 : Age\n",
      "9 : Extraction Method\n",
      "10 : Ind\n"
     ]
    },
    {
     "name": "stdin",
     "output_type": "stream",
     "text": [
      "Please type in the number of the data to subset graphs by columns: 9\n"
     ]
    },
    {
     "name": "stdout",
     "output_type": "stream",
     "text": [
      "3 Unique variables found.\n",
      "1 : KF\n",
      "2 : MT\n",
      "3 : Pestle\n",
      "Subsetting graph into 3 columns.\n",
      "\n",
      "1 : NAME\n",
      "2 : CHANNEL\n",
      "3 : TUBE\n",
      "4 : sampleID\n",
      "5 : RunID\n",
      "6 : Strain\n",
      "7 : Sex\n",
      "8 : Age\n",
      "9 : Ind\n"
     ]
    },
    {
     "name": "stdin",
     "output_type": "stream",
     "text": [
      "Please type in the number of the data to subset graphs by rows: 8\n"
     ]
    },
    {
     "name": "stdout",
     "output_type": "stream",
     "text": [
      "4 Unique variables found.\n",
      "1 : 1\n",
      "2 : 7\n",
      "3 : 14\n",
      "4 : 21\n",
      "Subsetting graph into 4 rows.\n",
      "\n",
      "x: TIME y: SIGNAL colSub: Extraction Method rowSub: Age colUniq: ['KF' 'MT' 'Pestle'] rowUniq: [1 7 14 21]\n"
     ]
    }
   ],
   "source": [
    "# this code asks if you want to subset\n",
    "\n",
    "# Define graph variables:\n",
    "columns = assembledData.columns.tolist()\n",
    "\n",
    "#sanatize input for X axis\n",
    "x = userinput(columns, 'use as x-axis')\n",
    "print(x, 'selected as x-axis.')\n",
    "\n",
    "#sanatize input for Y axis\n",
    "y = userinput(columns, 'use as y-axis')\n",
    "print(y, 'selected as y-axis.')\n",
    "\n",
    "#do i still need to create subOptions?\n",
    "subOptions = columns\n",
    "\n",
    "#Subsetting of data: removed y and x from potential subsetting options\n",
    "# X and why are already removed when selecting x and y axis with function\n",
    "#subOptions.remove(y)\n",
    "#subOptions.remove(x)\n",
    "\n",
    "while True:\n",
    "  try:\n",
    "    subset = input('Would you like to subset your graphs? (y/n): ').lower()\n",
    "    if subset == \"y\":  #optional\n",
    "        print('Subsetting Graphs:')\n",
    "        \n",
    "        \n",
    "        #Define Column Subset\n",
    "        colSub = userinput(columns, 'subset graphs by columns')\n",
    "        colUniq = assembledData[colSub].unique()\n",
    "        #ensure that there aren't more than 10 potential columns\n",
    "        while len(colUniq) > 10:\n",
    "            print(\"Subsetting by your selection would create more than 10 columns of graphs. Please select a different column:\")\n",
    "            colSub = userinput(columns, 'subset graphs by columns')\n",
    "            colUniq = assembledData[colSub].unique()\n",
    "            \n",
    "        print(len(colUniq), \"Unique variables found.\") \n",
    "        try: \n",
    "            for i in range(len(colUniq)):\n",
    "                colUniq[i] = int(colUniq[i])\n",
    "        \n",
    "        except ValueError:\n",
    "            pass\n",
    "        colUniq.sort()\n",
    "        for i in range(len(colUniq)):\n",
    "            print(i+1,':',colUniq[i])\n",
    "        print(\"Subsetting graph into\",len(colUniq), \"columns.\\n\")\n",
    "        # Define Row Subset\n",
    "        rowSub = userinput(columns, 'subset graphs by rows')\n",
    "        rowUniq = assembledData[rowSub].unique()\n",
    "        #ensure that there aren't more than 10 potential rows\n",
    "        while len(rowUniq) > 10:\n",
    "            print(\"Subsetting by your selection would create more than 10 rows of graphs. Please select a different column:\")\n",
    "            rowSub = userinput(columns, 'subset graphs by rows')\n",
    "            rowUniq = assembledData[rowSub].unique()\n",
    "            #if can be converted to int, it will and then sort\n",
    "        print(len(rowUniq), \"Unique variables found.\")\n",
    "        try: \n",
    "            for i in range(len(rowUniq)):\n",
    "                rowUniq[i] = int(rowUniq[i])\n",
    "        except ValueError:\n",
    "            pass\n",
    "        rowUniq.sort()\n",
    "        for i in range(len(rowUniq)):\n",
    "            print(i+1,':',rowUniq[i])\n",
    "        print(\"Subsetting graph into\",len(rowUniq), \"rows.\\n\")\n",
    "            \n",
    "        break\n",
    "    elif subset == \"n\":\n",
    "        print('No Data Subsetting')\n",
    "        break\n",
    "    else:\n",
    "        print('Please type y or n: ')\n",
    "  except TypeError:\n",
    "    print(\"Please type y or n: \")\n",
    "\n",
    "\n",
    "rowUniq.sort()\n",
    "print(\"x:\", x, \"y:\", y, \"colSub:\", colSub, \"rowSub:\", rowSub, 'colUniq:',colUniq,'rowUniq:', rowUniq)\n",
    "\n",
    "\n"
   ]
  },
  {
   "cell_type": "code",
   "execution_count": 28,
   "metadata": {},
   "outputs": [
    {
     "name": "stdout",
     "output_type": "stream",
     "text": [
      "1 : TIME\n",
      "2 : NAME\n",
      "3 : CHANNEL\n",
      "4 : TUBE\n",
      "5 : SIGNAL\n",
      "6 : sampleID\n",
      "7 : RunID\n",
      "8 : WT Signal\n",
      "9 : GSS Signal\n",
      "10 : Strain\n",
      "11 : Sex\n",
      "12 : Age\n",
      "13 : Extraction Method\n",
      "14 : Ind\n"
     ]
    },
    {
     "name": "stdin",
     "output_type": "stream",
     "text": [
      "Please type in the number of the data to use as x-axis: 1\n"
     ]
    },
    {
     "name": "stdout",
     "output_type": "stream",
     "text": [
      "TIME selected as x-axis.\n",
      "1 : NAME\n",
      "2 : CHANNEL\n",
      "3 : TUBE\n",
      "4 : SIGNAL\n",
      "5 : sampleID\n",
      "6 : RunID\n",
      "7 : WT Signal\n",
      "8 : GSS Signal\n",
      "9 : Strain\n",
      "10 : Sex\n",
      "11 : Age\n",
      "12 : Extraction Method\n",
      "13 : Ind\n"
     ]
    },
    {
     "name": "stdin",
     "output_type": "stream",
     "text": [
      "Please type in the number of the data to use as y-axis: 4\n"
     ]
    },
    {
     "name": "stdout",
     "output_type": "stream",
     "text": [
      "SIGNAL selected as y-axis.\n",
      "Subsetting Graphs:\n",
      "1 : NAME\n",
      "2 : CHANNEL\n",
      "3 : TUBE\n",
      "4 : sampleID\n",
      "5 : RunID\n",
      "6 : WT Signal\n",
      "7 : GSS Signal\n",
      "8 : Strain\n",
      "9 : Sex\n",
      "10 : Age\n",
      "11 : Extraction Method\n",
      "12 : Ind\n"
     ]
    },
    {
     "name": "stdin",
     "output_type": "stream",
     "text": [
      "Please type in the number of the data to subset graphs by columns: 11\n"
     ]
    },
    {
     "name": "stdout",
     "output_type": "stream",
     "text": [
      "3 Unique variables found.\n",
      "1 : KF\n",
      "2 : MT\n",
      "3 : Pestle\n",
      "Subsetting graph into 3 columns.\n",
      "\n",
      "1 : NAME\n",
      "2 : CHANNEL\n",
      "3 : TUBE\n",
      "4 : sampleID\n",
      "5 : RunID\n",
      "6 : WT Signal\n",
      "7 : GSS Signal\n",
      "8 : Strain\n",
      "9 : Sex\n",
      "10 : Age\n",
      "11 : Ind\n"
     ]
    },
    {
     "name": "stdin",
     "output_type": "stream",
     "text": [
      "Please type in the number of the data to subset graphs by rows: 10\n"
     ]
    },
    {
     "name": "stdout",
     "output_type": "stream",
     "text": [
      "4 Unique variables found.\n",
      "1 : 1\n",
      "2 : 7\n",
      "3 : 14\n",
      "4 : 21\n",
      "Subsetting graph into 4 rows.\n",
      "\n",
      "x: TIME y: SIGNAL colSub: Extraction Method rowSub: Age colUniq: ['KF' 'MT' 'Pestle'] rowUniq: [1 7 14 21]\n"
     ]
    }
   ],
   "source": [
    "# Define graph variables:\n",
    "columns = assembledData.columns.tolist()\n",
    "\n",
    "#sanatize input for X axis\n",
    "x = userinput(columns, 'use as x-axis')\n",
    "print(x, 'selected as x-axis.')\n",
    "\n",
    "#sanatize input for Y axis\n",
    "y = userinput(columns, 'use as y-axis')\n",
    "print(y, 'selected as y-axis.')\n",
    "\n",
    "#do i still need to create subOptions?\n",
    "#subOptions = columns\n",
    "\n",
    "#Subsetting of data: removed y and x from potential subsetting options\n",
    "# X and why are already removed when selecting x and y axis with function\n",
    "#subOptions.remove(y)\n",
    "#subOptions.remove(x)\n",
    "\n",
    "\n",
    "print('Subsetting Graphs:')\n",
    "\n",
    "\n",
    "#Define Column Subset\n",
    "colSub = userinput(columns, 'subset graphs by columns')\n",
    "colUniq = assembledData[colSub].unique()\n",
    "#ensure that there aren't more than 10 potential columns\n",
    "while len(colUniq) > 10:\n",
    "    print(\"Subsetting by your selection would create more than 10 columns of graphs. Please select a different column:\")\n",
    "    colSub = userinput(columns, 'subset graphs by columns')\n",
    "    colUniq = assembledData[colSub].unique()\n",
    "\n",
    "print(len(colUniq), \"Unique variables found.\") \n",
    "try: \n",
    "    for i in range(len(colUniq)):\n",
    "        colUniq[i] = int(colUniq[i])\n",
    "\n",
    "except ValueError:\n",
    "    pass\n",
    "colUniq.sort()\n",
    "for i in range(len(colUniq)):\n",
    "    print(i+1,':',colUniq[i])\n",
    "print(\"Subsetting graph into\",len(colUniq), \"columns.\\n\")\n",
    "# Define Row Subset\n",
    "rowSub = userinput(columns, 'subset graphs by rows')\n",
    "rowUniq = assembledData[rowSub].unique()\n",
    "#ensure that there aren't more than 10 potential rows\n",
    "while len(rowUniq) > 10:\n",
    "    print(\"Subsetting by your selection would create more than 10 rows of graphs. Please select a different column:\")\n",
    "    rowSub = userinput(columns, 'subset graphs by rows')\n",
    "    rowUniq = assembledData[rowSub].unique()\n",
    "    #if can be converted to int, it will and then sort\n",
    "print(len(rowUniq), \"Unique variables found.\")\n",
    "try: \n",
    "    for i in range(len(rowUniq)):\n",
    "        rowUniq[i] = int(rowUniq[i])\n",
    "except ValueError:\n",
    "    pass\n",
    "rowUniq.sort()\n",
    "for i in range(len(rowUniq)):\n",
    "    print(i+1,':',rowUniq[i])\n",
    "print(\"Subsetting graph into\",len(rowUniq), \"rows.\\n\")\n",
    "\n",
    "\n",
    "\n",
    "rowUniq.sort()\n",
    "print(\"x:\", x, \"y:\", y, \"colSub:\", colSub, \"rowSub:\", rowSub, 'colUniq:',colUniq,'rowUniq:', rowUniq)\n",
    "\n",
    "\n"
   ]
  },
  {
   "cell_type": "code",
   "execution_count": 29,
   "metadata": {},
   "outputs": [
    {
     "data": {
      "text/plain": [
       "<Figure size 864x1728 with 0 Axes>"
      ]
     },
     "metadata": {},
     "output_type": "display_data"
    },
    {
     "data": {
      "image/png": "[encoded data removed]",
      "text/plain": [
       "<Figure size 1800x1440 with 13 Axes>"
      ]
     },
     "metadata": {
      "needs_background": "light"
     },
     "output_type": "display_data"
    }
   ],
   "source": [
    "fig = plt.figure(figsize=(12,24))\n",
    "fig, axs = plt.subplots(len(rowUniq), len(colUniq), figsize=(25,20), sharex='all', sharey='all')\n",
    "\n",
    "#going through columns\n",
    "for col in range(len(colUniq)):\n",
    "    #going through rows\n",
    "    for row in range(len(rowUniq)):\n",
    "        #GSS allele\n",
    "        GSSsub = assembledData.query(\"(`{0}` == '{1}') & (`{2}` == '{3}') & (CHANNEL == 3)\"\n",
    "                                     .format(colSub, colUniq[col], rowSub, rowUniq[row]))\n",
    "        GSSxVal = GSSsub[x].tolist()\n",
    "        GSSyVal = GSSsub[y].tolist()\n",
    "        axs[row, col].plot(GSSxVal, GSSyVal, 'b.', label='GSS Allele')\n",
    "        #WT Allele\n",
    "        WTsub = assembledData.query(\"(`{0}` == '{1}') & (`{2}` == '{3}') & (CHANNEL == 2)\"\n",
    "                                     .format(colSub, colUniq[col], rowSub, rowUniq[row]))\n",
    "        WTxVal = WTsub[x].tolist()\n",
    "        WTyVal = WTsub[y].tolist()\n",
    "        axs[row, col].plot(WTxVal, WTyVal, 'r.', label='WT Allele')\n",
    "        axs[row, col].set_title('{0}: {1}, {2}: {3}'.format(colSub, colUniq[col], rowSub, rowUniq[row]))\n",
    "\n",
    "        #adding labels to graph\n",
    "\n",
    "\n",
    "\n",
    "axs[0, 0].legend(loc='upper left')\n",
    "fig.add_subplot(111, frameon=False)\n",
    "# hide tick and tick label of the big axis\n",
    "plt.tick_params(labelcolor='none', which='both', top=False, bottom=False, left=False, right=False)\n",
    "plt.xlabel(\"{0}\".format(x))\n",
    "plt.ylabel(\"{0}\".format(y))\n",
    "\n",
    "plt.savefig('MatMa_AgeSignal.png',format='png')"
   ]
  },
  {
   "cell_type": "code",
   "execution_count": 96,
   "metadata": {},
   "outputs": [
    {
     "name": "stdout",
     "output_type": "stream",
     "text": [
      "['1' '14' '21' '7']\n",
      "[1 7 14 21]\n"
     ]
    }
   ],
   "source": [
    "print(rowUniq)\n",
    "try: \n",
    "    for i in range(len(rowUniq)):\n",
    "        rowUniq[i] = int(rowUniq[i])\n",
    "        \n",
    "except ValueError:\n",
    "    pass\n",
    "rowUniq.sort()\n",
    "print(rowUniq)"
   ]
  },
  {
   "cell_type": "code",
   "execution_count": null,
   "metadata": {},
   "outputs": [],
   "source": [
    "while True:\n",
    "    try:\n",
    "        output = int(input('Please type in the number of the data to {}:'.format(userPrompt)))\n",
    "        if isinstance(output, int):\n",
    "            #change to 0 count scale\n",
    "            output = output - 1\n",
    "            #there is a bug here. giving a 0 or negative number will rollover the list\n",
    "            while len(options) <= output:\n",
    "                output = int(input('Not a valid selection. Please type the number of the data to {}:'.format(userPrompt)))\n",
    "            break\n",
    "    except ValueError:\n",
    "        print('Not a Number. Please type the Number of the data to {}:'.format(userPrompt))"
   ]
  }
 ],
 "metadata": {
  "kernelspec": {
   "display_name": "Python 3",
   "language": "python",
   "name": "python3"
  },
  "language_info": {
   "codemirror_mode": {
    "name": "ipython",
    "version": 3
   },
   "file_extension": ".py",
   "mimetype": "text/x-python",
   "name": "python",
   "nbconvert_exporter": "python",
   "pygments_lexer": "ipython3",
   "version": "3.7.8"
  }
 },
 "nbformat": 4,
 "nbformat_minor": 4
}
